{
 "cells": [
  {
   "cell_type": "code",
   "execution_count": 1,
   "id": "09892d1a",
   "metadata": {},
   "outputs": [],
   "source": [
    "from datascience import *\n",
    "import numpy as np\n",
    "import pandas as pd\n",
    "%matplotlib inline\n",
    "import matplotlib.pyplot as plots\n",
    "plots.style.use('fivethirtyeight')"
   ]
  },
  {
   "cell_type": "code",
   "execution_count": 41,
   "id": "e21a1ff0",
   "metadata": {},
   "outputs": [],
   "source": [
    "# Run this cell, but please don't change it.\n",
    "\n",
    "# These lines import the Numpy and Datascience modules.\n",
    "import numpy as np\n",
    "from datascience import *\n",
    "\n",
    "# These lines do some fancy plotting magic.\n",
    "import matplotlib\n",
    "%matplotlib inline\n",
    "import matplotlib.pyplot as plots\n",
    "plots.style.use('fivethirtyeight')\n",
    "import warnings\n",
    "warnings.simplefilter('ignore', FutureWarning)"
   ]
  },
  {
   "cell_type": "markdown",
   "id": "57594c90",
   "metadata": {},
   "source": [
    "# The first data set to be introduced is US murder rates by US State from Kaggle"
   ]
  },
  {
   "cell_type": "code",
   "execution_count": 25,
   "id": "b9788318",
   "metadata": {},
   "outputs": [
    {
     "data": {
      "text/html": [
       "<table border=\"1\" class=\"dataframe\">\n",
       "    <thead>\n",
       "        <tr>\n",
       "            <th>Unnamed: 0</th> <th>Murder</th> <th>Assault</th> <th>UrbanPop</th> <th>Rape</th>\n",
       "        </tr>\n",
       "    </thead>\n",
       "    <tbody>\n",
       "        <tr>\n",
       "            <td>Alabama    </td> <td>13.2  </td> <td>236    </td> <td>58      </td> <td>21.2</td>\n",
       "        </tr>\n",
       "        <tr>\n",
       "            <td>Alaska     </td> <td>10    </td> <td>263    </td> <td>48      </td> <td>44.5</td>\n",
       "        </tr>\n",
       "        <tr>\n",
       "            <td>Arizona    </td> <td>8.1   </td> <td>294    </td> <td>80      </td> <td>31  </td>\n",
       "        </tr>\n",
       "        <tr>\n",
       "            <td>Arkansas   </td> <td>8.8   </td> <td>190    </td> <td>50      </td> <td>19.5</td>\n",
       "        </tr>\n",
       "        <tr>\n",
       "            <td>California </td> <td>9     </td> <td>276    </td> <td>91      </td> <td>40.6</td>\n",
       "        </tr>\n",
       "        <tr>\n",
       "            <td>Colorado   </td> <td>7.9   </td> <td>204    </td> <td>78      </td> <td>38.7</td>\n",
       "        </tr>\n",
       "        <tr>\n",
       "            <td>Connecticut</td> <td>3.3   </td> <td>110    </td> <td>77      </td> <td>11.1</td>\n",
       "        </tr>\n",
       "        <tr>\n",
       "            <td>Delaware   </td> <td>5.9   </td> <td>238    </td> <td>72      </td> <td>15.8</td>\n",
       "        </tr>\n",
       "        <tr>\n",
       "            <td>Florida    </td> <td>15.4  </td> <td>335    </td> <td>80      </td> <td>31.9</td>\n",
       "        </tr>\n",
       "        <tr>\n",
       "            <td>Georgia    </td> <td>17.4  </td> <td>211    </td> <td>60      </td> <td>25.8</td>\n",
       "        </tr>\n",
       "    </tbody>\n",
       "</table>\n",
       "<p>... (40 rows omitted)</p>"
      ],
      "text/plain": [
       "Unnamed: 0  | Murder | Assault | UrbanPop | Rape\n",
       "Alabama     | 13.2   | 236     | 58       | 21.2\n",
       "Alaska      | 10     | 263     | 48       | 44.5\n",
       "Arizona     | 8.1    | 294     | 80       | 31\n",
       "Arkansas    | 8.8    | 190     | 50       | 19.5\n",
       "California  | 9      | 276     | 91       | 40.6\n",
       "Colorado    | 7.9    | 204     | 78       | 38.7\n",
       "Connecticut | 3.3    | 110     | 77       | 11.1\n",
       "Delaware    | 5.9    | 238     | 72       | 15.8\n",
       "Florida     | 15.4   | 335     | 80       | 31.9\n",
       "Georgia     | 17.4   | 211     | 60       | 25.8\n",
       "... (40 rows omitted)"
      ]
     },
     "execution_count": 25,
     "metadata": {},
     "output_type": "execute_result"
    }
   ],
   "source": [
    "crime = Table().read_table(\"US_violent_crime.csv\")\n",
    "crime"
   ]
  },
  {
   "cell_type": "markdown",
   "id": "992dcc7b",
   "metadata": {},
   "source": [
    "## Each point is per 100,000 people"
   ]
  },
  {
   "cell_type": "markdown",
   "id": "9ddb1a4a",
   "metadata": {},
   "source": [
    "## Clean the Headings"
   ]
  },
  {
   "cell_type": "code",
   "execution_count": 26,
   "id": "c99b2dc1",
   "metadata": {},
   "outputs": [
    {
     "data": {
      "text/html": [
       "<table border=\"1\" class=\"dataframe\">\n",
       "    <thead>\n",
       "        <tr>\n",
       "            <th>State</th> <th>Murder</th> <th>Assault</th> <th>UrbanPop</th> <th>Rape</th>\n",
       "        </tr>\n",
       "    </thead>\n",
       "    <tbody>\n",
       "        <tr>\n",
       "            <td>Alabama    </td> <td>13.2  </td> <td>236    </td> <td>58      </td> <td>21.2</td>\n",
       "        </tr>\n",
       "        <tr>\n",
       "            <td>Alaska     </td> <td>10    </td> <td>263    </td> <td>48      </td> <td>44.5</td>\n",
       "        </tr>\n",
       "        <tr>\n",
       "            <td>Arizona    </td> <td>8.1   </td> <td>294    </td> <td>80      </td> <td>31  </td>\n",
       "        </tr>\n",
       "        <tr>\n",
       "            <td>Arkansas   </td> <td>8.8   </td> <td>190    </td> <td>50      </td> <td>19.5</td>\n",
       "        </tr>\n",
       "        <tr>\n",
       "            <td>California </td> <td>9     </td> <td>276    </td> <td>91      </td> <td>40.6</td>\n",
       "        </tr>\n",
       "        <tr>\n",
       "            <td>Colorado   </td> <td>7.9   </td> <td>204    </td> <td>78      </td> <td>38.7</td>\n",
       "        </tr>\n",
       "        <tr>\n",
       "            <td>Connecticut</td> <td>3.3   </td> <td>110    </td> <td>77      </td> <td>11.1</td>\n",
       "        </tr>\n",
       "        <tr>\n",
       "            <td>Delaware   </td> <td>5.9   </td> <td>238    </td> <td>72      </td> <td>15.8</td>\n",
       "        </tr>\n",
       "        <tr>\n",
       "            <td>Florida    </td> <td>15.4  </td> <td>335    </td> <td>80      </td> <td>31.9</td>\n",
       "        </tr>\n",
       "        <tr>\n",
       "            <td>Georgia    </td> <td>17.4  </td> <td>211    </td> <td>60      </td> <td>25.8</td>\n",
       "        </tr>\n",
       "    </tbody>\n",
       "</table>\n",
       "<p>... (40 rows omitted)</p>"
      ],
      "text/plain": [
       "State       | Murder | Assault | UrbanPop | Rape\n",
       "Alabama     | 13.2   | 236     | 58       | 21.2\n",
       "Alaska      | 10     | 263     | 48       | 44.5\n",
       "Arizona     | 8.1    | 294     | 80       | 31\n",
       "Arkansas    | 8.8    | 190     | 50       | 19.5\n",
       "California  | 9      | 276     | 91       | 40.6\n",
       "Colorado    | 7.9    | 204     | 78       | 38.7\n",
       "Connecticut | 3.3    | 110     | 77       | 11.1\n",
       "Delaware    | 5.9    | 238     | 72       | 15.8\n",
       "Florida     | 15.4   | 335     | 80       | 31.9\n",
       "Georgia     | 17.4   | 211     | 60       | 25.8\n",
       "... (40 rows omitted)"
      ]
     },
     "execution_count": 26,
     "metadata": {},
     "output_type": "execute_result"
    }
   ],
   "source": [
    "crime = crime.relabel(\"Unnamed: 0\", \"State\")\n",
    "crime"
   ]
  },
  {
   "cell_type": "markdown",
   "id": "83382206",
   "metadata": {},
   "source": [
    "## The second table we will use are unemployment rates from the National Conference of State Legislatures"
   ]
  },
  {
   "cell_type": "code",
   "execution_count": 27,
   "id": "b7f291ff",
   "metadata": {},
   "outputs": [
    {
     "data": {
      "text/html": [
       "<table border=\"1\" class=\"dataframe\">\n",
       "    <thead>\n",
       "        <tr>\n",
       "            <th>State</th> <th>Jan.</th> <th>Feb.</th> <th>March</th> <th>April</th> <th>May</th> <th>June</th> <th>July</th> <th>Aug.</th> <th>Sept.</th> <th>Oct.</th> <th>Nov.</th> <th>Dec.</th>\n",
       "        </tr>\n",
       "    </thead>\n",
       "    <tbody>\n",
       "        <tr>\n",
       "            <td>Alabama             </td> <td>3.1 </td> <td>3   </td> <td>2.9  </td> <td>nan  </td> <td>nan </td> <td>nan </td> <td>nan </td> <td>nan </td> <td>nan  </td> <td>nan </td> <td>nan </td> <td>nan </td>\n",
       "        </tr>\n",
       "        <tr>\n",
       "            <td>Alaska              </td> <td>5.6 </td> <td>5.4 </td> <td>5    </td> <td>nan  </td> <td>nan </td> <td>nan </td> <td>nan </td> <td>nan </td> <td>nan  </td> <td>nan </td> <td>nan </td> <td>nan </td>\n",
       "        </tr>\n",
       "        <tr>\n",
       "            <td>Arizona             </td> <td>3.7 </td> <td>3.6 </td> <td>3.3  </td> <td>nan  </td> <td>nan </td> <td>nan </td> <td>nan </td> <td>nan </td> <td>nan  </td> <td>nan </td> <td>nan </td> <td>nan </td>\n",
       "        </tr>\n",
       "        <tr>\n",
       "            <td>Arkansas            </td> <td>3.2 </td> <td>3.1 </td> <td>3.1  </td> <td>nan  </td> <td>nan </td> <td>nan </td> <td>nan </td> <td>nan </td> <td>nan  </td> <td>nan </td> <td>nan </td> <td>nan </td>\n",
       "        </tr>\n",
       "        <tr>\n",
       "            <td>California          </td> <td>5.8 </td> <td>5.4 </td> <td>4.9  </td> <td>nan  </td> <td>nan </td> <td>nan </td> <td>nan </td> <td>nan </td> <td>nan  </td> <td>nan </td> <td>nan </td> <td>nan </td>\n",
       "        </tr>\n",
       "        <tr>\n",
       "            <td>Colorado            </td> <td>4.1 </td> <td>4   </td> <td>3.7  </td> <td>nan  </td> <td>nan </td> <td>nan </td> <td>nan </td> <td>nan </td> <td>nan  </td> <td>nan </td> <td>nan </td> <td>nan </td>\n",
       "        </tr>\n",
       "        <tr>\n",
       "            <td>Connecticut         </td> <td>5.3 </td> <td>4.9 </td> <td>4.6  </td> <td>nan  </td> <td>nan </td> <td>nan </td> <td>nan </td> <td>nan </td> <td>nan  </td> <td>nan </td> <td>nan </td> <td>nan </td>\n",
       "        </tr>\n",
       "        <tr>\n",
       "            <td>Delaware            </td> <td>4.8 </td> <td>4.6 </td> <td>4.5  </td> <td>nan  </td> <td>nan </td> <td>nan </td> <td>nan </td> <td>nan </td> <td>nan  </td> <td>nan </td> <td>nan </td> <td>nan </td>\n",
       "        </tr>\n",
       "        <tr>\n",
       "            <td>District of Columbia</td> <td>6.3 </td> <td>6.1 </td> <td>6    </td> <td>nan  </td> <td>nan </td> <td>nan </td> <td>nan </td> <td>nan </td> <td>nan  </td> <td>nan </td> <td>nan </td> <td>nan </td>\n",
       "        </tr>\n",
       "        <tr>\n",
       "            <td>Florida             </td> <td>3.5 </td> <td>3.3 </td> <td>3.2  </td> <td>nan  </td> <td>nan </td> <td>nan </td> <td>nan </td> <td>nan </td> <td>nan  </td> <td>nan </td> <td>nan </td> <td>nan </td>\n",
       "        </tr>\n",
       "    </tbody>\n",
       "</table>\n",
       "<p>... (41 rows omitted)</p>"
      ],
      "text/plain": [
       "State                | Jan. | Feb. | March | April | May  | June | July | Aug. | Sept. | Oct. | Nov. | Dec.\n",
       "Alabama              | 3.1  | 3    | 2.9   | nan   | nan  | nan  | nan  | nan  | nan   | nan  | nan  | nan\n",
       "Alaska               | 5.6  | 5.4  | 5     | nan   | nan  | nan  | nan  | nan  | nan   | nan  | nan  | nan\n",
       "Arizona              | 3.7  | 3.6  | 3.3   | nan   | nan  | nan  | nan  | nan  | nan   | nan  | nan  | nan\n",
       "Arkansas             | 3.2  | 3.1  | 3.1   | nan   | nan  | nan  | nan  | nan  | nan   | nan  | nan  | nan\n",
       "California           | 5.8  | 5.4  | 4.9   | nan   | nan  | nan  | nan  | nan  | nan   | nan  | nan  | nan\n",
       "Colorado             | 4.1  | 4    | 3.7   | nan   | nan  | nan  | nan  | nan  | nan   | nan  | nan  | nan\n",
       "Connecticut          | 5.3  | 4.9  | 4.6   | nan   | nan  | nan  | nan  | nan  | nan   | nan  | nan  | nan\n",
       "Delaware             | 4.8  | 4.6  | 4.5   | nan   | nan  | nan  | nan  | nan  | nan   | nan  | nan  | nan\n",
       "District of Columbia | 6.3  | 6.1  | 6     | nan   | nan  | nan  | nan  | nan  | nan   | nan  | nan  | nan\n",
       "Florida              | 3.5  | 3.3  | 3.2   | nan   | nan  | nan  | nan  | nan  | nan   | nan  | nan  | nan\n",
       "... (41 rows omitted)"
      ]
     },
     "execution_count": 27,
     "metadata": {},
     "output_type": "execute_result"
    }
   ],
   "source": [
    "unemployment = Table().read_table(\"unemployed.csv\")\n",
    "unemployment"
   ]
  },
  {
   "cell_type": "markdown",
   "id": "ca73f691",
   "metadata": {},
   "source": [
    "# The third dataset we will use shows the poverty rates and is from the Economic Research Service"
   ]
  },
  {
   "cell_type": "code",
   "execution_count": 37,
   "id": "538103a2",
   "metadata": {},
   "outputs": [
    {
     "data": {
      "text/html": [
       "<table border=\"1\" class=\"dataframe\">\n",
       "    <thead>\n",
       "        <tr>\n",
       "            <th>Name</th> <th>Percent</th> <th>Lower Bound</th> <th>Upper Bound</th> <th>Percent.1</th> <th>Lower Bound.1</th> <th>Upper Bound.1</th>\n",
       "        </tr>\n",
       "    </thead>\n",
       "    <tbody>\n",
       "        <tr>\n",
       "            <td>Alabama             </td> <td>15.6   </td> <td>15.2       </td> <td>16         </td> <td>21.9     </td> <td>21.1         </td> <td>22.7         </td>\n",
       "        </tr>\n",
       "        <tr>\n",
       "            <td>Alaska              </td> <td>10.2   </td> <td>9.6        </td> <td>10.8       </td> <td>13.2     </td> <td>12.2         </td> <td>14.2         </td>\n",
       "        </tr>\n",
       "        <tr>\n",
       "            <td>Arizona             </td> <td>13.5   </td> <td>13.2       </td> <td>13.8       </td> <td>19.2     </td> <td>18.4         </td> <td>20           </td>\n",
       "        </tr>\n",
       "        <tr>\n",
       "            <td>Arkansas            </td> <td>16     </td> <td>15.6       </td> <td>16.4       </td> <td>21.7     </td> <td>20.8         </td> <td>22.6         </td>\n",
       "        </tr>\n",
       "        <tr>\n",
       "            <td>California          </td> <td>11.8   </td> <td>11.7       </td> <td>11.9       </td> <td>15.6     </td> <td>15.3         </td> <td>15.9         </td>\n",
       "        </tr>\n",
       "        <tr>\n",
       "            <td>Colorado            </td> <td>9.4    </td> <td>9.1        </td> <td>9.7        </td> <td>11.2     </td> <td>10.5         </td> <td>11.9         </td>\n",
       "        </tr>\n",
       "        <tr>\n",
       "            <td>Connecticut         </td> <td>9.9    </td> <td>9.6        </td> <td>10.2       </td> <td>13.5     </td> <td>12.7         </td> <td>14.3         </td>\n",
       "        </tr>\n",
       "        <tr>\n",
       "            <td>Delaware            </td> <td>11.2   </td> <td>10.6       </td> <td>11.8       </td> <td>16.3     </td> <td>15.2         </td> <td>17.4         </td>\n",
       "        </tr>\n",
       "        <tr>\n",
       "            <td>District of Columbia</td> <td>14.1   </td> <td>13.2       </td> <td>15         </td> <td>20.8     </td> <td>17.6         </td> <td>24           </td>\n",
       "        </tr>\n",
       "        <tr>\n",
       "            <td>Florida             </td> <td>12.7   </td> <td>12.5       </td> <td>12.9       </td> <td>18.2     </td> <td>17.6         </td> <td>18.8         </td>\n",
       "        </tr>\n",
       "    </tbody>\n",
       "</table>\n",
       "<p>... (42 rows omitted)</p>"
      ],
      "text/plain": [
       "Name                 | Percent | Lower Bound | Upper Bound | Percent.1 | Lower Bound.1 | Upper Bound.1\n",
       "Alabama              | 15.6    | 15.2        | 16          | 21.9      | 21.1          | 22.7\n",
       "Alaska               | 10.2    | 9.6         | 10.8        | 13.2      | 12.2          | 14.2\n",
       "Arizona              | 13.5    | 13.2        | 13.8        | 19.2      | 18.4          | 20\n",
       "Arkansas             | 16      | 15.6        | 16.4        | 21.7      | 20.8          | 22.6\n",
       "California           | 11.8    | 11.7        | 11.9        | 15.6      | 15.3          | 15.9\n",
       "Colorado             | 9.4     | 9.1         | 9.7         | 11.2      | 10.5          | 11.9\n",
       "Connecticut          | 9.9     | 9.6         | 10.2        | 13.5      | 12.7          | 14.3\n",
       "Delaware             | 11.2    | 10.6        | 11.8        | 16.3      | 15.2          | 17.4\n",
       "District of Columbia | 14.1    | 13.2        | 15          | 20.8      | 17.6          | 24\n",
       "Florida              | 12.7    | 12.5        | 12.9        | 18.2      | 17.6          | 18.8\n",
       "... (42 rows omitted)"
      ]
     },
     "execution_count": 37,
     "metadata": {},
     "output_type": "execute_result"
    }
   ],
   "source": [
    "poverty = Table().read_table(\"povertyclean.csv\")\n",
    "poverty"
   ]
  },
  {
   "cell_type": "markdown",
   "id": "d1a9275c",
   "metadata": {},
   "source": [
    "## Cleanup the labels"
   ]
  },
  {
   "cell_type": "code",
   "execution_count": 38,
   "id": "2b692ef3",
   "metadata": {},
   "outputs": [
    {
     "data": {
      "text/html": [
       "<table border=\"1\" class=\"dataframe\">\n",
       "    <thead>\n",
       "        <tr>\n",
       "            <th>State</th> <th>Percent in Poverty</th> <th>Lower Bound</th> <th>Upper Bound</th> <th>Percent.1</th> <th>Lower Bound.1</th> <th>Upper Bound.1</th>\n",
       "        </tr>\n",
       "    </thead>\n",
       "    <tbody>\n",
       "        <tr>\n",
       "            <td>Alabama             </td> <td>15.6              </td> <td>15.2       </td> <td>16         </td> <td>21.9     </td> <td>21.1         </td> <td>22.7         </td>\n",
       "        </tr>\n",
       "        <tr>\n",
       "            <td>Alaska              </td> <td>10.2              </td> <td>9.6        </td> <td>10.8       </td> <td>13.2     </td> <td>12.2         </td> <td>14.2         </td>\n",
       "        </tr>\n",
       "        <tr>\n",
       "            <td>Arizona             </td> <td>13.5              </td> <td>13.2       </td> <td>13.8       </td> <td>19.2     </td> <td>18.4         </td> <td>20           </td>\n",
       "        </tr>\n",
       "        <tr>\n",
       "            <td>Arkansas            </td> <td>16                </td> <td>15.6       </td> <td>16.4       </td> <td>21.7     </td> <td>20.8         </td> <td>22.6         </td>\n",
       "        </tr>\n",
       "        <tr>\n",
       "            <td>California          </td> <td>11.8              </td> <td>11.7       </td> <td>11.9       </td> <td>15.6     </td> <td>15.3         </td> <td>15.9         </td>\n",
       "        </tr>\n",
       "        <tr>\n",
       "            <td>Colorado            </td> <td>9.4               </td> <td>9.1        </td> <td>9.7        </td> <td>11.2     </td> <td>10.5         </td> <td>11.9         </td>\n",
       "        </tr>\n",
       "        <tr>\n",
       "            <td>Connecticut         </td> <td>9.9               </td> <td>9.6        </td> <td>10.2       </td> <td>13.5     </td> <td>12.7         </td> <td>14.3         </td>\n",
       "        </tr>\n",
       "        <tr>\n",
       "            <td>Delaware            </td> <td>11.2              </td> <td>10.6       </td> <td>11.8       </td> <td>16.3     </td> <td>15.2         </td> <td>17.4         </td>\n",
       "        </tr>\n",
       "        <tr>\n",
       "            <td>District of Columbia</td> <td>14.1              </td> <td>13.2       </td> <td>15         </td> <td>20.8     </td> <td>17.6         </td> <td>24           </td>\n",
       "        </tr>\n",
       "        <tr>\n",
       "            <td>Florida             </td> <td>12.7              </td> <td>12.5       </td> <td>12.9       </td> <td>18.2     </td> <td>17.6         </td> <td>18.8         </td>\n",
       "        </tr>\n",
       "    </tbody>\n",
       "</table>\n",
       "<p>... (42 rows omitted)</p>"
      ],
      "text/plain": [
       "State                | Percent in Poverty | Lower Bound | Upper Bound | Percent.1 | Lower Bound.1 | Upper Bound.1\n",
       "Alabama              | 15.6               | 15.2        | 16          | 21.9      | 21.1          | 22.7\n",
       "Alaska               | 10.2               | 9.6         | 10.8        | 13.2      | 12.2          | 14.2\n",
       "Arizona              | 13.5               | 13.2        | 13.8        | 19.2      | 18.4          | 20\n",
       "Arkansas             | 16                 | 15.6        | 16.4        | 21.7      | 20.8          | 22.6\n",
       "California           | 11.8               | 11.7        | 11.9        | 15.6      | 15.3          | 15.9\n",
       "Colorado             | 9.4                | 9.1         | 9.7         | 11.2      | 10.5          | 11.9\n",
       "Connecticut          | 9.9                | 9.6         | 10.2        | 13.5      | 12.7          | 14.3\n",
       "Delaware             | 11.2               | 10.6        | 11.8        | 16.3      | 15.2          | 17.4\n",
       "District of Columbia | 14.1               | 13.2        | 15          | 20.8      | 17.6          | 24\n",
       "Florida              | 12.7               | 12.5        | 12.9        | 18.2      | 17.6          | 18.8\n",
       "... (42 rows omitted)"
      ]
     },
     "execution_count": 38,
     "metadata": {},
     "output_type": "execute_result"
    }
   ],
   "source": [
    "poverty = poverty.relabel(\"Percent\", \"Percent in Poverty\")\n",
    "poverty = poverty.relabel(\"Name\", \"State\")\n",
    "poverty"
   ]
  },
  {
   "cell_type": "markdown",
   "id": "34dd3889",
   "metadata": {},
   "source": [
    "# Question 1: Do the states with the highest level of violent crime have a high poverty rate?"
   ]
  },
  {
   "cell_type": "code",
   "execution_count": 53,
   "id": "9a357559",
   "metadata": {},
   "outputs": [
    {
     "data": {
      "text/html": [
       "<table border=\"1\" class=\"dataframe\">\n",
       "    <thead>\n",
       "        <tr>\n",
       "            <th>State</th> <th>Murder</th> <th>Assault</th> <th>UrbanPop</th> <th>Rape</th> <th>Percent in Poverty</th> <th>Lower Bound</th> <th>Upper Bound</th> <th>Percent.1</th> <th>Lower Bound.1</th> <th>Upper Bound.1</th>\n",
       "        </tr>\n",
       "    </thead>\n",
       "    <tbody>\n",
       "        <tr>\n",
       "            <td>Alabama    </td> <td>13.2  </td> <td>236    </td> <td>58      </td> <td>21.2</td> <td>15.6              </td> <td>15.2       </td> <td>16         </td> <td>21.9     </td> <td>21.1         </td> <td>22.7         </td>\n",
       "        </tr>\n",
       "        <tr>\n",
       "            <td>Alaska     </td> <td>10    </td> <td>263    </td> <td>48      </td> <td>44.5</td> <td>10.2              </td> <td>9.6        </td> <td>10.8       </td> <td>13.2     </td> <td>12.2         </td> <td>14.2         </td>\n",
       "        </tr>\n",
       "        <tr>\n",
       "            <td>Arizona    </td> <td>8.1   </td> <td>294    </td> <td>80      </td> <td>31  </td> <td>13.5              </td> <td>13.2       </td> <td>13.8       </td> <td>19.2     </td> <td>18.4         </td> <td>20           </td>\n",
       "        </tr>\n",
       "        <tr>\n",
       "            <td>Arkansas   </td> <td>8.8   </td> <td>190    </td> <td>50      </td> <td>19.5</td> <td>16                </td> <td>15.6       </td> <td>16.4       </td> <td>21.7     </td> <td>20.8         </td> <td>22.6         </td>\n",
       "        </tr>\n",
       "        <tr>\n",
       "            <td>California </td> <td>9     </td> <td>276    </td> <td>91      </td> <td>40.6</td> <td>11.8              </td> <td>11.7       </td> <td>11.9       </td> <td>15.6     </td> <td>15.3         </td> <td>15.9         </td>\n",
       "        </tr>\n",
       "        <tr>\n",
       "            <td>Colorado   </td> <td>7.9   </td> <td>204    </td> <td>78      </td> <td>38.7</td> <td>9.4               </td> <td>9.1        </td> <td>9.7        </td> <td>11.2     </td> <td>10.5         </td> <td>11.9         </td>\n",
       "        </tr>\n",
       "        <tr>\n",
       "            <td>Connecticut</td> <td>3.3   </td> <td>110    </td> <td>77      </td> <td>11.1</td> <td>9.9               </td> <td>9.6        </td> <td>10.2       </td> <td>13.5     </td> <td>12.7         </td> <td>14.3         </td>\n",
       "        </tr>\n",
       "        <tr>\n",
       "            <td>Delaware   </td> <td>5.9   </td> <td>238    </td> <td>72      </td> <td>15.8</td> <td>11.2              </td> <td>10.6       </td> <td>11.8       </td> <td>16.3     </td> <td>15.2         </td> <td>17.4         </td>\n",
       "        </tr>\n",
       "        <tr>\n",
       "            <td>Florida    </td> <td>15.4  </td> <td>335    </td> <td>80      </td> <td>31.9</td> <td>12.7              </td> <td>12.5       </td> <td>12.9       </td> <td>18.2     </td> <td>17.6         </td> <td>18.8         </td>\n",
       "        </tr>\n",
       "        <tr>\n",
       "            <td>Georgia    </td> <td>17.4  </td> <td>211    </td> <td>60      </td> <td>25.8</td> <td>13.5              </td> <td>13.2       </td> <td>13.8       </td> <td>19.5     </td> <td>18.8         </td> <td>20.2         </td>\n",
       "        </tr>\n",
       "    </tbody>\n",
       "</table>\n",
       "<p>... (40 rows omitted)</p>"
      ],
      "text/plain": [
       "State       | Murder | Assault | UrbanPop | Rape | Percent in Poverty | Lower Bound | Upper Bound | Percent.1 | Lower Bound.1 | Upper Bound.1\n",
       "Alabama     | 13.2   | 236     | 58       | 21.2 | 15.6               | 15.2        | 16          | 21.9      | 21.1          | 22.7\n",
       "Alaska      | 10     | 263     | 48       | 44.5 | 10.2               | 9.6         | 10.8        | 13.2      | 12.2          | 14.2\n",
       "Arizona     | 8.1    | 294     | 80       | 31   | 13.5               | 13.2        | 13.8        | 19.2      | 18.4          | 20\n",
       "Arkansas    | 8.8    | 190     | 50       | 19.5 | 16                 | 15.6        | 16.4        | 21.7      | 20.8          | 22.6\n",
       "California  | 9      | 276     | 91       | 40.6 | 11.8               | 11.7        | 11.9        | 15.6      | 15.3          | 15.9\n",
       "Colorado    | 7.9    | 204     | 78       | 38.7 | 9.4                | 9.1         | 9.7         | 11.2      | 10.5          | 11.9\n",
       "Connecticut | 3.3    | 110     | 77       | 11.1 | 9.9                | 9.6         | 10.2        | 13.5      | 12.7          | 14.3\n",
       "Delaware    | 5.9    | 238     | 72       | 15.8 | 11.2               | 10.6        | 11.8        | 16.3      | 15.2          | 17.4\n",
       "Florida     | 15.4   | 335     | 80       | 31.9 | 12.7               | 12.5        | 12.9        | 18.2      | 17.6          | 18.8\n",
       "Georgia     | 17.4   | 211     | 60       | 25.8 | 13.5               | 13.2        | 13.8        | 19.5      | 18.8          | 20.2\n",
       "... (40 rows omitted)"
      ]
     },
     "execution_count": 53,
     "metadata": {},
     "output_type": "execute_result"
    }
   ],
   "source": [
    "povcrime = crime.join(\"State\", poverty)\n",
    "povcrime"
   ]
  },
  {
   "cell_type": "markdown",
   "id": "83399618",
   "metadata": {},
   "source": [
    "## A scatterplot can help us see if their is a linear relation"
   ]
  },
  {
   "cell_type": "code",
   "execution_count": 42,
   "id": "ab4fb5a1",
   "metadata": {},
   "outputs": [
    {
     "data": {
      "image/png": "[encoded data removed]",
      "text/plain": [
       "<Figure size 360x360 with 1 Axes>"
      ]
     },
     "metadata": {},
     "output_type": "display_data"
    }
   ],
   "source": [
    "povcrime.scatter(\"Murder\", \"Percent in Poverty\")"
   ]
  },
  {
   "cell_type": "code",
   "execution_count": 54,
   "id": "6d7a7be9",
   "metadata": {},
   "outputs": [
    {
     "data": {
      "text/html": [
       "<table border=\"1\" class=\"dataframe\">\n",
       "    <thead>\n",
       "        <tr>\n",
       "            <th>Murder (standard units)</th> <th>pip (standard units)</th>\n",
       "        </tr>\n",
       "    </thead>\n",
       "    <tbody>\n",
       "        <tr>\n",
       "            <td>1.25518                </td> <td>1.32724             </td>\n",
       "        </tr>\n",
       "        <tr>\n",
       "            <td>0.513019               </td> <td>-0.731088           </td>\n",
       "        </tr>\n",
       "        <tr>\n",
       "            <td>0.0723607              </td> <td>0.52678             </td>\n",
       "        </tr>\n",
       "        <tr>\n",
       "            <td>0.234708               </td> <td>1.47971             </td>\n",
       "        </tr>\n",
       "        <tr>\n",
       "            <td>0.281093               </td> <td>-0.121213           </td>\n",
       "        </tr>\n",
       "        <tr>\n",
       "            <td>0.0259756              </td> <td>-1.03603            </td>\n",
       "        </tr>\n",
       "        <tr>\n",
       "            <td>-1.04088               </td> <td>-0.84544            </td>\n",
       "        </tr>\n",
       "        <tr>\n",
       "            <td>-0.437875              </td> <td>-0.349916           </td>\n",
       "        </tr>\n",
       "        <tr>\n",
       "            <td>1.76541                </td> <td>0.221842            </td>\n",
       "        </tr>\n",
       "        <tr>\n",
       "            <td>2.22927                </td> <td>0.52678             </td>\n",
       "        </tr>\n",
       "    </tbody>\n",
       "</table>\n",
       "<p>... (40 rows omitted)</p>"
      ],
      "text/plain": [
       "Murder (standard units) | pip (standard units)\n",
       "1.25518                 | 1.32724\n",
       "0.513019                | -0.731088\n",
       "0.0723607               | 0.52678\n",
       "0.234708                | 1.47971\n",
       "0.281093                | -0.121213\n",
       "0.0259756               | -1.03603\n",
       "-1.04088                | -0.84544\n",
       "-0.437875               | -0.349916\n",
       "1.76541                 | 0.221842\n",
       "2.22927                 | 0.52678\n",
       "... (40 rows omitted)"
      ]
     },
     "execution_count": 54,
     "metadata": {},
     "output_type": "execute_result"
    }
   ],
   "source": [
    "murder_mean = np.mean(povcrime.column(\"Murder\"))\n",
    "murder_std = np.std(povcrime.column(\"Murder\"))\n",
    "pip_mean = np.mean(povcrime.column(\"Percent in Poverty\"))\n",
    "pip_std = np.std(povcrime.column(\"Percent in Poverty\"))\n",
    "\n",
    "povcrime_standard = Table().with_columns(\n",
    "    \"Murder (standard units)\", (povcrime.column(\"Murder\") - murder_mean) / murder_std ,\n",
    "    \"pip (standard units)\", (povcrime.column(\"Percent in Poverty\") - pip_mean) / pip_std)\n",
    "povcrime_standard"
   ]
  },
  {
   "cell_type": "code",
   "execution_count": 55,
   "id": "cf0e69c1",
   "metadata": {},
   "outputs": [
    {
     "data": {
      "text/plain": [
       "0.631043057309723"
      ]
     },
     "execution_count": 55,
     "metadata": {},
     "output_type": "execute_result"
    }
   ],
   "source": [
    "r = np.mean(povcrime_standard.column(0) * povcrime_standard.column(1))\n",
    "r"
   ]
  },
  {
   "cell_type": "markdown",
   "id": "468d6f05",
   "metadata": {},
   "source": [
    "## We generally want an r that is greater than 0.7 in order to reject the null hypothesis."
   ]
  },
  {
   "cell_type": "code",
   "execution_count": 56,
   "id": "a42a72f0",
   "metadata": {},
   "outputs": [
    {
     "data": {
      "image/png": "[encoded data removed]",
      "text/plain": [
       "<Figure size 360x360 with 1 Axes>"
      ]
     },
     "metadata": {},
     "output_type": "display_data"
    }
   ],
   "source": [
    "def plot_data_and_line(dataset, x, y, point_0, point_1):\n",
    "    \"\"\"Makes a scatter plot of the dataset, along with a line passing through two points.\"\"\"\n",
    "    dataset.scatter(x, y, label=\"data\")\n",
    "    xs, ys = zip(point_0, point_1)\n",
    "    plots.plot(xs, ys, label=\"regression line\")\n",
    "    plots.legend(bbox_to_anchor=(1.5,.8))\n",
    "\n",
    "plot_data_and_line(povcrime_standard, \n",
    "                   \"Murder (standard units)\", \n",
    "                   \"pip (standard units)\", \n",
    "                   [-2, -2*r], \n",
    "                   [2, 2*r])"
   ]
  },
  {
   "cell_type": "markdown",
   "id": "658da425",
   "metadata": {},
   "source": [
    "## We can find the slope and intercept of our regression line"
   ]
  },
  {
   "cell_type": "code",
   "execution_count": 57,
   "id": "6c704312",
   "metadata": {},
   "outputs": [
    {
     "data": {
      "text/plain": [
       "0.3839596846999977"
      ]
     },
     "execution_count": 57,
     "metadata": {},
     "output_type": "execute_result"
    }
   ],
   "source": [
    "slope = r * (pip_std / murder_std)\n",
    "slope"
   ]
  },
  {
   "cell_type": "code",
   "execution_count": 58,
   "id": "d6d8f3d8",
   "metadata": {},
   "outputs": [
    {
     "data": {
      "text/plain": [
       "9.127721975556415"
      ]
     },
     "execution_count": 58,
     "metadata": {},
     "output_type": "execute_result"
    }
   ],
   "source": [
    "intercept = slope * (-murder_mean) + pip_mean\n",
    "intercept"
   ]
  },
  {
   "cell_type": "markdown",
   "id": "73b43c88",
   "metadata": {},
   "source": [
    "### We can make predictions with a mediocre level of certainty with the equation:"
   ]
  },
  {
   "cell_type": "markdown",
   "id": "1fdab133",
   "metadata": {},
   "source": [
    "### pip = 0.384 * murder + 9.128"
   ]
  },
  {
   "cell_type": "markdown",
   "id": "5ca35192",
   "metadata": {},
   "source": [
    "# Question 2: Does a state's unempoyment status effect the level of murder rates?"
   ]
  },
  {
   "cell_type": "code",
   "execution_count": 64,
   "id": "0518ce7b",
   "metadata": {},
   "outputs": [
    {
     "data": {
      "text/html": [
       "<table border=\"1\" class=\"dataframe\">\n",
       "    <thead>\n",
       "        <tr>\n",
       "            <th>State</th> <th>Murder</th> <th>Assault</th> <th>UrbanPop</th> <th>Rape</th> <th>March</th>\n",
       "        </tr>\n",
       "    </thead>\n",
       "    <tbody>\n",
       "        <tr>\n",
       "            <td>Alabama    </td> <td>13.2  </td> <td>236    </td> <td>58      </td> <td>21.2</td> <td>2.9  </td>\n",
       "        </tr>\n",
       "        <tr>\n",
       "            <td>Alaska     </td> <td>10    </td> <td>263    </td> <td>48      </td> <td>44.5</td> <td>5    </td>\n",
       "        </tr>\n",
       "        <tr>\n",
       "            <td>Arizona    </td> <td>8.1   </td> <td>294    </td> <td>80      </td> <td>31  </td> <td>3.3  </td>\n",
       "        </tr>\n",
       "        <tr>\n",
       "            <td>Arkansas   </td> <td>8.8   </td> <td>190    </td> <td>50      </td> <td>19.5</td> <td>3.1  </td>\n",
       "        </tr>\n",
       "        <tr>\n",
       "            <td>California </td> <td>9     </td> <td>276    </td> <td>91      </td> <td>40.6</td> <td>4.9  </td>\n",
       "        </tr>\n",
       "        <tr>\n",
       "            <td>Colorado   </td> <td>7.9   </td> <td>204    </td> <td>78      </td> <td>38.7</td> <td>3.7  </td>\n",
       "        </tr>\n",
       "        <tr>\n",
       "            <td>Connecticut</td> <td>3.3   </td> <td>110    </td> <td>77      </td> <td>11.1</td> <td>4.6  </td>\n",
       "        </tr>\n",
       "        <tr>\n",
       "            <td>Delaware   </td> <td>5.9   </td> <td>238    </td> <td>72      </td> <td>15.8</td> <td>4.5  </td>\n",
       "        </tr>\n",
       "        <tr>\n",
       "            <td>Florida    </td> <td>15.4  </td> <td>335    </td> <td>80      </td> <td>31.9</td> <td>3.2  </td>\n",
       "        </tr>\n",
       "        <tr>\n",
       "            <td>Georgia    </td> <td>17.4  </td> <td>211    </td> <td>60      </td> <td>25.8</td> <td>3.1  </td>\n",
       "        </tr>\n",
       "    </tbody>\n",
       "</table>\n",
       "<p>... (40 rows omitted)</p>"
      ],
      "text/plain": [
       "State       | Murder | Assault | UrbanPop | Rape | March\n",
       "Alabama     | 13.2   | 236     | 58       | 21.2 | 2.9\n",
       "Alaska      | 10     | 263     | 48       | 44.5 | 5\n",
       "Arizona     | 8.1    | 294     | 80       | 31   | 3.3\n",
       "Arkansas    | 8.8    | 190     | 50       | 19.5 | 3.1\n",
       "California  | 9      | 276     | 91       | 40.6 | 4.9\n",
       "Colorado    | 7.9    | 204     | 78       | 38.7 | 3.7\n",
       "Connecticut | 3.3    | 110     | 77       | 11.1 | 4.6\n",
       "Delaware    | 5.9    | 238     | 72       | 15.8 | 4.5\n",
       "Florida     | 15.4   | 335     | 80       | 31.9 | 3.2\n",
       "Georgia     | 17.4   | 211     | 60       | 25.8 | 3.1\n",
       "... (40 rows omitted)"
      ]
     },
     "execution_count": 64,
     "metadata": {},
     "output_type": "execute_result"
    }
   ],
   "source": [
    "unemploycrime = crime.join(\"State\", unemployment).select(0,1,2,3,4,7)\n",
    "unemploycrime"
   ]
  },
  {
   "cell_type": "markdown",
   "id": "b546cae1",
   "metadata": {},
   "source": [
    "## A scatterplot can help us see if their is a linear relation"
   ]
  },
  {
   "cell_type": "code",
   "execution_count": 65,
   "id": "c59a41dc",
   "metadata": {},
   "outputs": [
    {
     "data": {
      "image/png": "[encoded data removed]",
      "text/plain": [
       "<Figure size 360x360 with 1 Axes>"
      ]
     },
     "metadata": {},
     "output_type": "display_data"
    }
   ],
   "source": [
    "unemploycrime.scatter(\"Murder\", \"March\")"
   ]
  },
  {
   "cell_type": "code",
   "execution_count": 66,
   "id": "80681154",
   "metadata": {},
   "outputs": [
    {
     "data": {
      "text/html": [
       "<table border=\"1\" class=\"dataframe\">\n",
       "    <thead>\n",
       "        <tr>\n",
       "            <th>Murder (standard units)</th> <th>Unemployment (standard units)</th>\n",
       "        </tr>\n",
       "    </thead>\n",
       "    <tbody>\n",
       "        <tr>\n",
       "            <td>1.25518                </td> <td>-0.792146                    </td>\n",
       "        </tr>\n",
       "        <tr>\n",
       "            <td>0.513019               </td> <td>1.61176                      </td>\n",
       "        </tr>\n",
       "        <tr>\n",
       "            <td>0.0723607              </td> <td>-0.334258                    </td>\n",
       "        </tr>\n",
       "        <tr>\n",
       "            <td>0.234708               </td> <td>-0.563202                    </td>\n",
       "        </tr>\n",
       "        <tr>\n",
       "            <td>0.281093               </td> <td>1.49729                      </td>\n",
       "        </tr>\n",
       "        <tr>\n",
       "            <td>0.0259756              </td> <td>0.12363                      </td>\n",
       "        </tr>\n",
       "        <tr>\n",
       "            <td>-1.04088               </td> <td>1.15388                      </td>\n",
       "        </tr>\n",
       "        <tr>\n",
       "            <td>-0.437875              </td> <td>1.03941                      </td>\n",
       "        </tr>\n",
       "        <tr>\n",
       "            <td>1.76541                </td> <td>-0.44873                     </td>\n",
       "        </tr>\n",
       "        <tr>\n",
       "            <td>2.22927                </td> <td>-0.563202                    </td>\n",
       "        </tr>\n",
       "    </tbody>\n",
       "</table>\n",
       "<p>... (40 rows omitted)</p>"
      ],
      "text/plain": [
       "Murder (standard units) | Unemployment (standard units)\n",
       "1.25518                 | -0.792146\n",
       "0.513019                | 1.61176\n",
       "0.0723607               | -0.334258\n",
       "0.234708                | -0.563202\n",
       "0.281093                | 1.49729\n",
       "0.0259756               | 0.12363\n",
       "-1.04088                | 1.15388\n",
       "-0.437875               | 1.03941\n",
       "1.76541                 | -0.44873\n",
       "2.22927                 | -0.563202\n",
       "... (40 rows omitted)"
      ]
     },
     "execution_count": 66,
     "metadata": {},
     "output_type": "execute_result"
    }
   ],
   "source": [
    "murder_mean = np.mean(unemploycrime.column(\"Murder\"))\n",
    "murder_std = np.std(unemploycrime.column(\"Murder\"))\n",
    "unemploy_mean = np.mean(unemploycrime.column(\"March\"))\n",
    "unemploy_std = np.std(unemploycrime.column(\"March\"))\n",
    "\n",
    "unemploycrime_standard = Table().with_columns(\n",
    "    \"Murder (standard units)\", (unemploycrime.column(\"Murder\") - murder_mean) / murder_std ,\n",
    "    \"Unemployment (standard units)\", (unemploycrime.column(\"March\") - unemploy_mean) / unemploy_std)\n",
    "unemploycrime_standard"
   ]
  },
  {
   "cell_type": "code",
   "execution_count": 67,
   "id": "93ffc4d4",
   "metadata": {},
   "outputs": [
    {
     "data": {
      "text/plain": [
       "0.3696948929486741"
      ]
     },
     "execution_count": 67,
     "metadata": {},
     "output_type": "execute_result"
    }
   ],
   "source": [
    "r = np.mean(unemploycrime_standard.column(0) * unemploycrime_standard.column(1))\n",
    "r"
   ]
  },
  {
   "cell_type": "markdown",
   "id": "7fb814fe",
   "metadata": {},
   "source": [
    "## This r value is relatively low, thus the data does not appear to have a strong linear relationship"
   ]
  },
  {
   "cell_type": "code",
   "execution_count": 68,
   "id": "8d48d2d3",
   "metadata": {},
   "outputs": [
    {
     "data": {
      "image/png": "[encoded data removed]",
      "text/plain": [
       "<Figure size 360x360 with 1 Axes>"
      ]
     },
     "metadata": {},
     "output_type": "display_data"
    }
   ],
   "source": [
    "def plot_data_and_line(dataset, x, y, point_0, point_1):\n",
    "    \"\"\"Makes a scatter plot of the dataset, along with a line passing through two points.\"\"\"\n",
    "    dataset.scatter(x, y, label=\"data\")\n",
    "    xs, ys = zip(point_0, point_1)\n",
    "    plots.plot(xs, ys, label=\"regression line\")\n",
    "    plots.legend(bbox_to_anchor=(1.5,.8))\n",
    "\n",
    "plot_data_and_line(unemploycrime_standard, \n",
    "                   \"Murder (standard units)\", \n",
    "                   \"Unemployment (standard units)\", \n",
    "                   [-2, -2*r], \n",
    "                   [2, 2*r])"
   ]
  },
  {
   "cell_type": "markdown",
   "id": "811ae498",
   "metadata": {},
   "source": [
    "## The slope and intercepts for our regression line are"
   ]
  },
  {
   "cell_type": "code",
   "execution_count": 69,
   "id": "a173014f",
   "metadata": {},
   "outputs": [
    {
     "data": {
      "text/plain": [
       "0.07490182375869343"
      ]
     },
     "execution_count": 69,
     "metadata": {},
     "output_type": "execute_result"
    }
   ],
   "source": [
    "slope = r * (unemploy_std / murder_std)\n",
    "slope"
   ]
  },
  {
   "cell_type": "code",
   "execution_count": 70,
   "id": "756eac14",
   "metadata": {},
   "outputs": [
    {
     "data": {
      "text/plain": [
       "3.008664596567296"
      ]
     },
     "execution_count": 70,
     "metadata": {},
     "output_type": "execute_result"
    }
   ],
   "source": [
    "intercept = slope * (-murder_mean) + unemploy_mean\n",
    "intercept"
   ]
  },
  {
   "cell_type": "markdown",
   "id": "e6dcbd84",
   "metadata": {},
   "source": [
    "### With a very low certainty, we could predict unemployment rates or violent crime with the equation:"
   ]
  },
  {
   "cell_type": "markdown",
   "id": "aa659cf5",
   "metadata": {},
   "source": [
    "### unemployment = 0.075 * murder + 3.009"
   ]
  },
  {
   "cell_type": "markdown",
   "id": "f59eb4de",
   "metadata": {},
   "source": [
    "# Question 3: Does a states assault rates have any relation to umeployment rates?"
   ]
  },
  {
   "cell_type": "code",
   "execution_count": 72,
   "id": "6848f44b",
   "metadata": {},
   "outputs": [
    {
     "data": {
      "text/html": [
       "<table border=\"1\" class=\"dataframe\">\n",
       "    <thead>\n",
       "        <tr>\n",
       "            <th>State</th> <th>Murder</th> <th>Assault</th> <th>UrbanPop</th> <th>Rape</th> <th>March</th>\n",
       "        </tr>\n",
       "    </thead>\n",
       "    <tbody>\n",
       "        <tr>\n",
       "            <td>Alabama    </td> <td>13.2  </td> <td>236    </td> <td>58      </td> <td>21.2</td> <td>2.9  </td>\n",
       "        </tr>\n",
       "        <tr>\n",
       "            <td>Alaska     </td> <td>10    </td> <td>263    </td> <td>48      </td> <td>44.5</td> <td>5    </td>\n",
       "        </tr>\n",
       "        <tr>\n",
       "            <td>Arizona    </td> <td>8.1   </td> <td>294    </td> <td>80      </td> <td>31  </td> <td>3.3  </td>\n",
       "        </tr>\n",
       "        <tr>\n",
       "            <td>Arkansas   </td> <td>8.8   </td> <td>190    </td> <td>50      </td> <td>19.5</td> <td>3.1  </td>\n",
       "        </tr>\n",
       "        <tr>\n",
       "            <td>California </td> <td>9     </td> <td>276    </td> <td>91      </td> <td>40.6</td> <td>4.9  </td>\n",
       "        </tr>\n",
       "        <tr>\n",
       "            <td>Colorado   </td> <td>7.9   </td> <td>204    </td> <td>78      </td> <td>38.7</td> <td>3.7  </td>\n",
       "        </tr>\n",
       "        <tr>\n",
       "            <td>Connecticut</td> <td>3.3   </td> <td>110    </td> <td>77      </td> <td>11.1</td> <td>4.6  </td>\n",
       "        </tr>\n",
       "        <tr>\n",
       "            <td>Delaware   </td> <td>5.9   </td> <td>238    </td> <td>72      </td> <td>15.8</td> <td>4.5  </td>\n",
       "        </tr>\n",
       "        <tr>\n",
       "            <td>Florida    </td> <td>15.4  </td> <td>335    </td> <td>80      </td> <td>31.9</td> <td>3.2  </td>\n",
       "        </tr>\n",
       "        <tr>\n",
       "            <td>Georgia    </td> <td>17.4  </td> <td>211    </td> <td>60      </td> <td>25.8</td> <td>3.1  </td>\n",
       "        </tr>\n",
       "    </tbody>\n",
       "</table>\n",
       "<p>... (40 rows omitted)</p>"
      ],
      "text/plain": [
       "State       | Murder | Assault | UrbanPop | Rape | March\n",
       "Alabama     | 13.2   | 236     | 58       | 21.2 | 2.9\n",
       "Alaska      | 10     | 263     | 48       | 44.5 | 5\n",
       "Arizona     | 8.1    | 294     | 80       | 31   | 3.3\n",
       "Arkansas    | 8.8    | 190     | 50       | 19.5 | 3.1\n",
       "California  | 9      | 276     | 91       | 40.6 | 4.9\n",
       "Colorado    | 7.9    | 204     | 78       | 38.7 | 3.7\n",
       "Connecticut | 3.3    | 110     | 77       | 11.1 | 4.6\n",
       "Delaware    | 5.9    | 238     | 72       | 15.8 | 4.5\n",
       "Florida     | 15.4   | 335     | 80       | 31.9 | 3.2\n",
       "Georgia     | 17.4   | 211     | 60       | 25.8 | 3.1\n",
       "... (40 rows omitted)"
      ]
     },
     "execution_count": 72,
     "metadata": {},
     "output_type": "execute_result"
    }
   ],
   "source": [
    "unemploycrime = crime.join(\"State\", unemployment).select(0,1,2,3,4,7)\n",
    "unemploycrime"
   ]
  },
  {
   "cell_type": "code",
   "execution_count": 73,
   "id": "d8c1546d",
   "metadata": {},
   "outputs": [
    {
     "data": {
      "image/png": "[encoded data removed]",
      "text/plain": [
       "<Figure size 360x360 with 1 Axes>"
      ]
     },
     "metadata": {},
     "output_type": "display_data"
    }
   ],
   "source": [
    "unemploycrime.scatter(\"Assault\", \"March\")"
   ]
  },
  {
   "cell_type": "code",
   "execution_count": 74,
   "id": "62d1ef6b",
   "metadata": {},
   "outputs": [
    {
     "data": {
      "text/html": [
       "<table border=\"1\" class=\"dataframe\">\n",
       "    <thead>\n",
       "        <tr>\n",
       "            <th>Assault (standard units)</th> <th>Unemployment (standard units)</th>\n",
       "        </tr>\n",
       "    </thead>\n",
       "    <tbody>\n",
       "        <tr>\n",
       "            <td>0.790787                </td> <td>-0.792146                    </td>\n",
       "        </tr>\n",
       "        <tr>\n",
       "            <td>1.11806                 </td> <td>1.61176                      </td>\n",
       "        </tr>\n",
       "        <tr>\n",
       "            <td>1.49382                 </td> <td>-0.334258                    </td>\n",
       "        </tr>\n",
       "        <tr>\n",
       "            <td>0.233212                </td> <td>-0.563202                    </td>\n",
       "        </tr>\n",
       "        <tr>\n",
       "            <td>1.27564                 </td> <td>1.49729                      </td>\n",
       "        </tr>\n",
       "        <tr>\n",
       "            <td>0.402909                </td> <td>0.12363                      </td>\n",
       "        </tr>\n",
       "        <tr>\n",
       "            <td>-0.736484               </td> <td>1.15388                      </td>\n",
       "        </tr>\n",
       "        <tr>\n",
       "            <td>0.81503                 </td> <td>1.03941                      </td>\n",
       "        </tr>\n",
       "        <tr>\n",
       "            <td>1.99079                 </td> <td>-0.44873                     </td>\n",
       "        </tr>\n",
       "        <tr>\n",
       "            <td>0.487757                </td> <td>-0.563202                    </td>\n",
       "        </tr>\n",
       "    </tbody>\n",
       "</table>\n",
       "<p>... (40 rows omitted)</p>"
      ],
      "text/plain": [
       "Assault (standard units) | Unemployment (standard units)\n",
       "0.790787                 | -0.792146\n",
       "1.11806                  | 1.61176\n",
       "1.49382                  | -0.334258\n",
       "0.233212                 | -0.563202\n",
       "1.27564                  | 1.49729\n",
       "0.402909                 | 0.12363\n",
       "-0.736484                | 1.15388\n",
       "0.81503                  | 1.03941\n",
       "1.99079                  | -0.44873\n",
       "0.487757                 | -0.563202\n",
       "... (40 rows omitted)"
      ]
     },
     "execution_count": 74,
     "metadata": {},
     "output_type": "execute_result"
    }
   ],
   "source": [
    "assault_mean = np.mean(unemploycrime.column(\"Assault\"))\n",
    "assault_std = np.std(unemploycrime.column(\"Assault\"))\n",
    "unemploy_mean = np.mean(unemploycrime.column(\"March\"))\n",
    "unemploy_std = np.std(unemploycrime.column(\"March\"))\n",
    "\n",
    "unemploycrime_standard = Table().with_columns(\n",
    "    \"Assault (standard units)\", (unemploycrime.column(\"Assault\") - assault_mean) / assault_std ,\n",
    "    \"Unemployment (standard units)\", (unemploycrime.column(\"March\") - unemploy_mean) / unemploy_std)\n",
    "unemploycrime_standard"
   ]
  },
  {
   "cell_type": "code",
   "execution_count": 75,
   "id": "47ce5809",
   "metadata": {},
   "outputs": [
    {
     "data": {
      "text/plain": [
       "0.4833358736362878"
      ]
     },
     "execution_count": 75,
     "metadata": {},
     "output_type": "execute_result"
    }
   ],
   "source": [
    "r = np.mean(unemploycrime_standard.column(0) * unemploycrime_standard.column(1))\n",
    "r"
   ]
  },
  {
   "cell_type": "markdown",
   "id": "ecc41635",
   "metadata": {},
   "source": [
    "## This r value is relatively low, thus the data does not appear to have a strong linear relationship"
   ]
  },
  {
   "cell_type": "code",
   "execution_count": 76,
   "id": "59a1cc97",
   "metadata": {},
   "outputs": [
    {
     "data": {
      "image/png": "[encoded data removed]",
      "text/plain": [
       "<Figure size 360x360 with 1 Axes>"
      ]
     },
     "metadata": {},
     "output_type": "display_data"
    }
   ],
   "source": [
    "def plot_data_and_line(dataset, x, y, point_0, point_1):\n",
    "    \"\"\"Makes a scatter plot of the dataset, along with a line passing through two points.\"\"\"\n",
    "    dataset.scatter(x, y, label=\"data\")\n",
    "    xs, ys = zip(point_0, point_1)\n",
    "    plots.plot(xs, ys, label=\"regression line\")\n",
    "    plots.legend(bbox_to_anchor=(1.5,.8))\n",
    "\n",
    "plot_data_and_line(unemploycrime_standard, \n",
    "                   \"Assault (standard units)\", \n",
    "                   \"Unemployment (standard units)\", \n",
    "                   [-2, -2*r], \n",
    "                   [2, 2*r])"
   ]
  },
  {
   "cell_type": "markdown",
   "id": "fa3ea282",
   "metadata": {},
   "source": [
    "## The slope and intercept of our regression lines are:"
   ]
  },
  {
   "cell_type": "code",
   "execution_count": 77,
   "id": "61d227f9",
   "metadata": {},
   "outputs": [
    {
     "data": {
      "text/plain": [
       "0.0979259900903892"
      ]
     },
     "execution_count": 77,
     "metadata": {},
     "output_type": "execute_result"
    }
   ],
   "source": [
    "slope = r * (unemploy_std / murder_std)\n",
    "slope"
   ]
  },
  {
   "cell_type": "code",
   "execution_count": 78,
   "id": "2a7c2884",
   "metadata": {},
   "outputs": [
    {
     "data": {
      "text/plain": [
       "2.8293523891760493"
      ]
     },
     "execution_count": 78,
     "metadata": {},
     "output_type": "execute_result"
    }
   ],
   "source": [
    "intercept = slope * (-murder_mean) + unemploy_mean\n",
    "intercept"
   ]
  },
  {
   "cell_type": "markdown",
   "id": "42b52309",
   "metadata": {},
   "source": [
    "### With a very low certainty, we could predict unemployment rates or assault rates with the equation:"
   ]
  },
  {
   "cell_type": "markdown",
   "id": "d27d1d8a",
   "metadata": {},
   "source": [
    "### unemployment = 0.098 * assault + 2.829"
   ]
  },
  {
   "cell_type": "markdown",
   "id": "4ea9c07b",
   "metadata": {},
   "source": [
    "# Conclustion"
   ]
  },
  {
   "cell_type": "markdown",
   "id": "3ececb40",
   "metadata": {},
   "source": [
    "Out of the three questions asked, no linear relationships were found strong enough to confidently be used in prediction. However, the analysis of poverty rate and murder was close. This is a relationship I would further examine once more data is collected, or with different data found."
   ]
  },
  {
   "cell_type": "markdown",
   "id": "19929dc0",
   "metadata": {},
   "source": [
    "None were completely without relation, so I would be wary saying there is or is not a correlation. I believe that money plays a big role in violent crime, but there are other important factors."
   ]
  },
  {
   "cell_type": "markdown",
   "id": "f690aea3",
   "metadata": {},
   "source": [
    "### To improve results I would find more data sets, try different statistical methods to find a relationship, and would allow more time for data to come out as Covid has probably skewed data"
   ]
  },
  {
   "cell_type": "markdown",
   "id": "38695804",
   "metadata": {},
   "source": [
    "## Further questions to answer:"
   ]
  },
  {
   "cell_type": "markdown",
   "id": "351fb916",
   "metadata": {},
   "source": [
    "1. What did unemployment and poverty rates look like before, during, and after covid?"
   ]
  },
  {
   "cell_type": "markdown",
   "id": "a5bd0846",
   "metadata": {},
   "source": [
    "2. Have murder rates changed since Covid affected the world?"
   ]
  },
  {
   "cell_type": "code",
   "execution_count": null,
   "id": "b676adc8",
   "metadata": {},
   "outputs": [],
   "source": []
  }
 ],
 "metadata": {
  "kernelspec": {
   "display_name": "Python 3",
   "language": "python",
   "name": "python3"
  },
  "language_info": {
   "codemirror_mode": {
    "name": "ipython",
    "version": 3
   },
   "file_extension": ".py",
   "mimetype": "text/x-python",
   "name": "python",
   "nbconvert_exporter": "python",
   "pygments_lexer": "ipython3",
   "version": "3.8.8"
  }
 },
 "nbformat": 4,
 "nbformat_minor": 5
}
